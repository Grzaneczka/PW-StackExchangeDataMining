{
 "cells": [
  {
   "cell_type": "code",
   "execution_count": 1,
   "metadata": {},
   "outputs": [],
   "source": [
    "def travel_freq(df):\n",
    "    countries = {'Austria':['Austria'],\n",
    "                'Belgium':['Belgium'],\n",
    "                'Bulgaria':['Bulgaria'],\n",
    "                'Croatia':['Croatia'],\n",
    "                'Cyprus':['Cyprus'],\n",
    "                'Czechia':['Czechia','Czech Republic'],\n",
    "                'Denmark':['Denmark'],\n",
    "                'Estonia':['Estonia'],\n",
    "                'Finland':['Finland'],\n",
    "                'France':['France'],\n",
    "                'Germany':['Germany'],\n",
    "                'Greece':['Greece'],\n",
    "                'Hungary':['Hungary'],\n",
    "                'Ireland':['Ireland'],\n",
    "                'Italy':['Italy'],\n",
    "                'Latvia':['Latvia'],\n",
    "                'Luxembourg':['Luxembourg'],\n",
    "                'Lithuania':['Lithuania'],\n",
    "                'Malta':['Malta'],\n",
    "                'Netherlands':['Netherlands'],\n",
    "                'Poland':['Poland'],\n",
    "                'Portugal':['Portugal'],\n",
    "                'Romania':['Romania'],\n",
    "                'Slovakia':['Slovak Republic', 'Slovakia'],\n",
    "                'Spain':['Spain'],\n",
    "                'Sweden':['Sweden']}\n",
    "    visits = {country:{str(year)+'-'+str(quarter):0 for year in range(2011, 2021) \n",
    "                       for quarter in range(1,5)} \n",
    "              for country in countries.keys()}\n",
    "    for i in range(df.shape[0]):\n",
    "        for country in countries.keys():\n",
    "            for name in countries[country]:\n",
    "                if name in df['Body'][i]:\n",
    "                    visits[country][str(df['CreationDate'][i].year)+'-'+str(1+(df['CreationDate'][i].month-1)//3)]+=1\n",
    "                    continue\n",
    "    predicted_visits = pd.DataFrame(visits).transpose()\n",
    "    return predicted_visits"
   ]
  }
 ],
 "metadata": {
  "kernelspec": {
   "display_name": "Python 3",
   "language": "python",
   "name": "python3"
  },
  "language_info": {
   "codemirror_mode": {
    "name": "ipython",
    "version": 3
   },
   "file_extension": ".py",
   "mimetype": "text/x-python",
   "name": "python",
   "nbconvert_exporter": "python",
   "pygments_lexer": "ipython3",
   "version": "3.7.4"
  }
 },
 "nbformat": 4,
 "nbformat_minor": 2
}
